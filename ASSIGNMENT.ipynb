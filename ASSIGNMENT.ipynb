{
 "cells": [
  {
   "cell_type": "code",
   "execution_count": 23,
   "id": "d0d3314a-0acc-4521-8cc0-79800f4b01a8",
   "metadata": {},
   "outputs": [],
   "source": [
    "# 1 Explain the importance  of Functions\n",
    "# ans =>\n",
    "\n",
    "# 1. Break down complex problem in to smaller probem\n",
    "# 2.Allow code to reuse,reduce redundancy and errors\n",
    "# 3.simple & maintable code\n",
    "# 4.Reduce code thats why faster execution of code\n",
    "         "
   ]
  },
  {
   "cell_type": "code",
   "execution_count": 24,
   "id": "e801ffb7-0208-4037-86e5-e52e45a95739",
   "metadata": {},
   "outputs": [
    {
     "name": "stdout",
     "output_type": "stream",
     "text": [
      "hello students!\n"
     ]
    }
   ],
   "source": [
    "#2. write a basic functins to greet students\n",
    "\n",
    "def greet():\n",
    "    print(\"hello students!\")\n",
    "    \n",
    "    \n",
    "greet()    "
   ]
  },
  {
   "cell_type": "code",
   "execution_count": 97,
   "id": "f9470cc0-eb30-47f5-863b-b7a57b1e2a8b",
   "metadata": {},
   "outputs": [],
   "source": [
    "#3.what is the difference between print and return statements ?\n",
    "# print displays information to the console, while return exits a function and provides a value to the caller."
   ]
  },
  {
   "cell_type": "code",
   "execution_count": 96,
   "id": "47b401da-1a94-41da-b04e-17278728614f",
   "metadata": {},
   "outputs": [],
   "source": [
    "#4.what are *args and **kwargs\n",
    "# *args => *args allows a function to accept a variable number of positional arguments, which are then accessible as a tuple within the function.\n",
    "# **kwargs => **kwargs allows a function to accept a variable number of keyword arguments, which are then accessible as a dictionary within the function."
   ]
  },
  {
   "cell_type": "code",
   "execution_count": 95,
   "id": "84fb15ce-de0a-4f57-9e35-cb1e180a8f01",
   "metadata": {},
   "outputs": [],
   "source": [
    "#5.Explain the iterator function\n",
    "# iterator is an object that is used to iterate over iterable objects\n",
    "# list, tuple, dict, string, sets\n",
    "# To iterate the iterable is to be converted to iterator"
   ]
  },
  {
   "cell_type": "code",
   "execution_count": 25,
   "id": "96579eba-6b20-4554-a402-979cf4ba4e0d",
   "metadata": {},
   "outputs": [
    {
     "name": "stdout",
     "output_type": "stream",
     "text": [
      "0\n",
      "1\n",
      "4\n",
      "9\n",
      "16\n",
      "25\n",
      "36\n",
      "49\n",
      "64\n",
      "81\n"
     ]
    }
   ],
   "source": [
    "#6.write a code that generates the squares of numbers from 1 to n using a generator\n",
    "\n",
    "\n",
    "def square_generator(n):\n",
    "    for i in range(n):\n",
    "        yield i * i\n",
    "\n",
    "\n",
    "n = 10\n",
    "for square in square_generator(n):\n",
    "    print(square)"
   ]
  },
  {
   "cell_type": "code",
   "execution_count": 26,
   "id": "f47a95b7-e0fd-4a75-b1a1-4d11bec94695",
   "metadata": {},
   "outputs": [
    {
     "name": "stdout",
     "output_type": "stream",
     "text": [
      "0\n",
      "1\n",
      "2\n",
      "3\n",
      "4\n",
      "5\n",
      "6\n",
      "7\n",
      "8\n",
      "9\n",
      "11\n",
      "22\n",
      "33\n",
      "44\n",
      "55\n",
      "66\n",
      "77\n",
      "88\n",
      "99\n"
     ]
    }
   ],
   "source": [
    "#7 . write a code that generate the palindromic numbers up to n using a generator.\n",
    "def is_palindrome(num):\n",
    "    return str(num) == str(num)[::-1]\n",
    "\n",
    "\n",
    "def generate_palindrome(n):\n",
    "    for num in range (n):\n",
    "        if is_palindrome(num):\n",
    "            yield num\n",
    "            \n",
    "        \n",
    "n = 100\n",
    "for palindrome in generate_palindrome(n):\n",
    "    print(palindrome)"
   ]
  },
  {
   "cell_type": "code",
   "execution_count": 27,
   "id": "cc2bd753-af78-40c8-8c2e-5990440d8190",
   "metadata": {},
   "outputs": [
    {
     "name": "stdout",
     "output_type": "stream",
     "text": [
      "2\n",
      "4\n",
      "6\n",
      "8\n",
      "10\n",
      "12\n",
      "14\n",
      "16\n",
      "18\n"
     ]
    }
   ],
   "source": [
    "#8.write a code that generates even numbers from 2 to n using a generator\n",
    "\n",
    "def generate_even_numbers(n):\n",
    "    for num in range(2, n):\n",
    "        if num%2 == 0:\n",
    "            yield num\n",
    "\n",
    "\n",
    "n = 20\n",
    "even_generator = generate_even_numbers(n)\n",
    "for even_num in even_generator:\n",
    "    print(even_num)"
   ]
  },
  {
   "cell_type": "code",
   "execution_count": 28,
   "id": "a13881f8-ce94-4873-89d9-e441421a1802",
   "metadata": {},
   "outputs": [
    {
     "name": "stdout",
     "output_type": "stream",
     "text": [
      "2\n",
      "4\n",
      "8\n",
      "16\n",
      "32\n",
      "64\n",
      "128\n"
     ]
    }
   ],
   "source": [
    "#9. write a code that generates power of two up to n using a generator\n",
    "\n",
    "def generate_powers_of_two(n):\n",
    "    power = 1\n",
    "    while power <= n:\n",
    "        power = power *2\n",
    "        yield power\n",
    "        \n",
    "       \n",
    "\n",
    "n = 100\n",
    "powers_of_two_generator = generate_powers_of_two(n)\n",
    "for power_of_two in powers_of_two_generator:\n",
    "    print(power_of_two)"
   ]
  },
  {
   "cell_type": "code",
   "execution_count": 29,
   "id": "11b6efe8-6337-4022-82c5-551491f5a026",
   "metadata": {},
   "outputs": [
    {
     "name": "stdout",
     "output_type": "stream",
     "text": [
      "2\n",
      "3\n",
      "5\n",
      "7\n",
      "11\n",
      "13\n",
      "17\n",
      "19\n",
      "23\n",
      "29\n",
      "31\n",
      "37\n",
      "41\n",
      "43\n",
      "47\n"
     ]
    }
   ],
   "source": [
    "#10.write a code that generates prime numbers up to n using a generator\n",
    "def is_prime(num):\n",
    "    if num < 2:\n",
    "        return False\n",
    "    for i in range(2, int(num ** 0.5) + 1):\n",
    "        if num % i == 0:\n",
    "            return False\n",
    "    return True\n",
    "\n",
    "def generate_prime_numbers(n):\n",
    "    for num in range(2, n + 1):\n",
    "        if is_prime(num):\n",
    "            yield num\n",
    "\n",
    "n = 50\n",
    "prime_generator = generate_prime_numbers(n)\n",
    "for prime_num in prime_generator:\n",
    "    print(prime_num)"
   ]
  },
  {
   "cell_type": "code",
   "execution_count": 30,
   "id": "17101807-a52e-4122-a599-a8731d1907ea",
   "metadata": {},
   "outputs": [
    {
     "data": {
      "text/plain": [
       "11"
      ]
     },
     "execution_count": 30,
     "metadata": {},
     "output_type": "execute_result"
    }
   ],
   "source": [
    "#11.write a code using lambda functin sum of wo numbers\n",
    "\n",
    "add = lambda x,y : x + y\n",
    "add(5,6)"
   ]
  },
  {
   "cell_type": "code",
   "execution_count": 31,
   "id": "24e08d31-b4e8-43aa-ad93-4b6b76cfe363",
   "metadata": {},
   "outputs": [
    {
     "data": {
      "text/plain": [
       "25"
      ]
     },
     "execution_count": 31,
     "metadata": {},
     "output_type": "execute_result"
    }
   ],
   "source": [
    "#12.write a code to find the sqaure of a number using lambda function\n",
    "\n",
    "sq = lambda x : x**2\n",
    "sq(5)"
   ]
  },
  {
   "cell_type": "code",
   "execution_count": 32,
   "id": "68f8623a-5e6c-40d7-a887-dbb262a4bf61",
   "metadata": {},
   "outputs": [
    {
     "data": {
      "text/plain": [
       "False"
      ]
     },
     "execution_count": 32,
     "metadata": {},
     "output_type": "execute_result"
    }
   ],
   "source": [
    "# 13.write a code using lmbda function to chek that a no is even or odd\n",
    "\n",
    "is_even_odd = lambda x : x%2 == 0\n",
    "is_even_odd(23)"
   ]
  },
  {
   "cell_type": "code",
   "execution_count": 33,
   "id": "c6846a68-93ea-4698-a047-9eff0541e8a5",
   "metadata": {},
   "outputs": [
    {
     "name": "stdout",
     "output_type": "stream",
     "text": [
      "pw skills\n"
     ]
    }
   ],
   "source": [
    "#15 write a code to concatenate two strings using lambda functions\n",
    "str1 = \"pw\"\n",
    "str2 = \" skills\"\n",
    "\n",
    "concatenate = lambda str1,str2: str1 + str2\n",
    "result = concatenate(str1,str2)\n",
    "print(result)"
   ]
  },
  {
   "cell_type": "code",
   "execution_count": 34,
   "id": "4cbcea87-0817-4069-ae8a-880627f7112d",
   "metadata": {},
   "outputs": [
    {
     "name": "stdout",
     "output_type": "stream",
     "text": [
      "87\n"
     ]
    }
   ],
   "source": [
    "#16.write a code to find max of three number using lambda function\n",
    "\n",
    "max_three = lambda x,y,z : max(x,y,z)\n",
    "result = max_three(55,65,87)\n",
    "print(result)"
   ]
  },
  {
   "cell_type": "code",
   "execution_count": 2,
   "id": "0e23bd9c-8fb9-440d-ad7e-59fe0c7f966d",
   "metadata": {},
   "outputs": [
    {
     "name": "stdout",
     "output_type": "stream",
     "text": [
      "2\n",
      "4\n",
      "6\n",
      "8\n",
      "10\n"
     ]
    }
   ],
   "source": [
    "#17 write a code that generate the even no from a list\n",
    "l = [1,2,3,4,5,6,7,8,9,10]\n",
    "for i in l:\n",
    "    if i%2==0:\n",
    "        print(i)"
   ]
  },
  {
   "cell_type": "code",
   "execution_count": 3,
   "id": "7d60b535-6393-4983-a6ca-13519114d2da",
   "metadata": {},
   "outputs": [
    {
     "name": "stdout",
     "output_type": "stream",
     "text": [
      "Product of positive numbers: 210\n"
     ]
    }
   ],
   "source": [
    "#18.write a code that calculate the product of positive number from a list\n",
    "def calculate_positive_product(input_list):\n",
    "    product = 1\n",
    "    for num in input_list:\n",
    "        if num > 0:\n",
    "            product *= num\n",
    "    return product\n",
    "\n",
    "\n",
    "input_list = [2, 3, -4, 5, -6, 7, -8]\n",
    "positive_product = calculate_positive_product(input_list)\n",
    "print(\"Product of positive numbers:\", positive_product)"
   ]
  },
  {
   "cell_type": "code",
   "execution_count": 4,
   "id": "25ecf668-c681-430b-9439-091b45d1804f",
   "metadata": {},
   "outputs": [
    {
     "name": "stdout",
     "output_type": "stream",
     "text": [
      "[1, 9, 25, 49]\n"
     ]
    }
   ],
   "source": [
    "#19.write a code that double the odd value from a list\n",
    "\n",
    "def double_odd(input_list):\n",
    "    l=[]\n",
    "    for num in input_list:\n",
    "        if num % 2 != 0:\n",
    "            l.append(num * num)\n",
    "    return l\n",
    "            \n",
    "            \n",
    "            \n",
    "input_list = [1,2,3,4,5,6,7,8]   \n",
    "result = double_odd(input_list)\n",
    "print(result)"
   ]
  },
  {
   "cell_type": "code",
   "execution_count": 5,
   "id": "a4e6b073-8eb6-4c72-952f-193868153671",
   "metadata": {},
   "outputs": [
    {
     "name": "stdout",
     "output_type": "stream",
     "text": [
      "100\n"
     ]
    }
   ],
   "source": [
    "#20.write a code to find the sum of cubes from a list\n",
    "def cubes_number(input_list):\n",
    "    sum_cubes =0\n",
    "    for i in input_list:\n",
    "        cube = i ** 3\n",
    "        sum_cubes = sum_cubes + cube\n",
    "    return sum_cubes    \n",
    "       \n",
    "\n",
    "input_list=[1,2,3,4]\n",
    "result = cubes_number(input_list)\n",
    "print(result)"
   ]
  },
  {
   "cell_type": "code",
   "execution_count": 6,
   "id": "aa2067f6-a1f8-4a7f-a93f-69687ed00125",
   "metadata": {},
   "outputs": [
    {
     "name": "stdout",
     "output_type": "stream",
     "text": [
      "Prime numbers: [2, 3, 5, 7]\n"
     ]
    }
   ],
   "source": [
    "#21 .\n",
    "def is_prime(num):\n",
    "    if num < 2:\n",
    "        return False\n",
    "   \n",
    "    for i in range(2, int(num ** 0.5) + 1):\n",
    "        if num % i == 0:\n",
    "            return False\n",
    "    return True\n",
    "\n",
    "def filter_primes(input_list):\n",
    "    prime_numbers = []\n",
    "    for num in input_list:\n",
    "        if is_prime(num):\n",
    "            prime_numbers.append(num)\n",
    "    return prime_numbers\n",
    "\n",
    "# Example usage:\n",
    "input_list = [1, 2, 3, 4, 5, 6, 7, 8, 9, 10]\n",
    "prime_numbers = filter_primes(input_list)\n",
    "print(\"Prime numbers:\", prime_numbers)\n"
   ]
  },
  {
   "cell_type": "code",
   "execution_count": 7,
   "id": "e55f85b7-96ad-47eb-9c7c-d5c68fcc95fe",
   "metadata": {},
   "outputs": [
    {
     "data": {
      "text/plain": [
       "11"
      ]
     },
     "execution_count": 7,
     "metadata": {},
     "output_type": "execute_result"
    }
   ],
   "source": [
    "#22.write a code using lambda functin sum of wo numbers\n",
    "\n",
    "add = lambda x,y : x + y\n",
    "add(5,6)"
   ]
  },
  {
   "cell_type": "code",
   "execution_count": 8,
   "id": "d70bdc0c-6d22-4c3f-b5a2-e6eb11c82d93",
   "metadata": {},
   "outputs": [
    {
     "data": {
      "text/plain": [
       "25"
      ]
     },
     "execution_count": 8,
     "metadata": {},
     "output_type": "execute_result"
    }
   ],
   "source": [
    "#23.write a code to find the sqaure of a number using lambda function\n",
    "\n",
    "sq = lambda x : x**2\n",
    "sq(5)"
   ]
  },
  {
   "cell_type": "code",
   "execution_count": 9,
   "id": "9fa26fcd-ccb2-4091-9d02-fa2c8164b7f3",
   "metadata": {},
   "outputs": [
    {
     "data": {
      "text/plain": [
       "False"
      ]
     },
     "execution_count": 9,
     "metadata": {},
     "output_type": "execute_result"
    }
   ],
   "source": [
    "#24.write a code using lmbda function to chek that a no is even or odd\n",
    "\n",
    "is_even_odd = lambda x : x%2 == 0\n",
    "is_even_odd(23)"
   ]
  },
  {
   "cell_type": "code",
   "execution_count": 10,
   "id": "899a967a-ec68-4648-a7cc-134f42261afa",
   "metadata": {},
   "outputs": [
    {
     "name": "stdout",
     "output_type": "stream",
     "text": [
      "pw skills\n"
     ]
    }
   ],
   "source": [
    "#25.write a code to concatenate two strings using lambda functions\n",
    "str1 = \"pw\"\n",
    "str2 = \" skills\"\n",
    "\n",
    "concatenate = lambda str1,str2: str1 + str2\n",
    "result = concatenate(str1,str2)\n",
    "print(result)"
   ]
  },
  {
   "cell_type": "code",
   "execution_count": 11,
   "id": "86aae2df-95d7-4c1a-8577-51e7af12bdf2",
   "metadata": {},
   "outputs": [
    {
     "name": "stdout",
     "output_type": "stream",
     "text": [
      "87\n"
     ]
    }
   ],
   "source": [
    "#26.write a code to find max of three number using lambda function\n",
    "\n",
    "max_three = lambda x,y,z : max(x,y,z)\n",
    "result = max_three(55,65,87)\n",
    "print(result)"
   ]
  },
  {
   "cell_type": "code",
   "execution_count": 94,
   "id": "b0243fde-12ab-42a0-a8d7-d98bbd819c70",
   "metadata": {},
   "outputs": [],
   "source": [
    "#27 . what is encapsulation in oops\n",
    "\n",
    "# Encapsulation in object-oriented programming is the bundling of data (attributes) and methods (behaviors) that\n",
    "# operate on the data into a single unit"
   ]
  },
  {
   "cell_type": "code",
   "execution_count": 93,
   "id": "826259f9-8437-4510-b6fd-2e9d51d5e57e",
   "metadata": {},
   "outputs": [],
   "source": [
    "#28.explain the use of access modifier in python classes.\n",
    "\n",
    "# Access modifiers in Python classes control the visibility and accessibility of class members \n",
    "# (attributes and methods), with conventions like single underscore _ for protected and double underscore __ for\n",
    "# private, aiding in encapsulation and code organization."
   ]
  },
  {
   "cell_type": "code",
   "execution_count": 92,
   "id": "0a618ea5-9e82-43e2-a47c-112ed5cde971",
   "metadata": {},
   "outputs": [],
   "source": [
    "#29.what is inheritence in oops\n",
    "# inheritence means a class acquires all the property and method of another class."
   ]
  },
  {
   "cell_type": "code",
   "execution_count": 91,
   "id": "2fc788ff-c97e-42f2-80ce-98fb50f6a1f3",
   "metadata": {},
   "outputs": [],
   "source": [
    "#30.what is polymorphism in oops\n",
    "# In OOP, polymorphism refers to an object's capacity to assume several forms.\n",
    "# Simply said, polymorphism enables us to carry out a single activity in a variety of ways"
   ]
  },
  {
   "cell_type": "code",
   "execution_count": 90,
   "id": "b707e8c2-5ab0-4832-bba7-62d38bc85337",
   "metadata": {},
   "outputs": [],
   "source": [
    "#31.what is method overriding\n",
    "\n",
    "# Method overriding in Python refers to the process of redefining a method in a subclass that already exists in \n",
    "# its superclass. When an overridden method is called on an object of the subclass, the \n",
    "# subclass's implementation of the method is executed instead of the superclass's implementation."
   ]
  },
  {
   "cell_type": "code",
   "execution_count": 35,
   "id": "9b0fb480-2328-4552-b30e-15142db50bbe",
   "metadata": {},
   "outputs": [
    {
     "name": "stdout",
     "output_type": "stream",
     "text": [
      "Generic animal sounds\n",
      "woof\n"
     ]
    }
   ],
   "source": [
    "#32.define a parennt class animal with a methId make_sound that prints \"Generic animal sounds\". Create a\n",
    "#child class Dog inheriting from animal with a method make_sound that prints \"woof\"\n",
    "\n",
    "class Animal():\n",
    "    def make_sound(self):\n",
    "        print(\"Generic animal sounds\")\n",
    "    \n",
    "class Dog(Animal):\n",
    "    def make_sound(self):\n",
    "        print(\"woof\")\n",
    "        \n",
    "animal = Animal()\n",
    "animal.make_sound()\n",
    "\n",
    "dog = Dog()\n",
    "dog.make_sound()"
   ]
  },
  {
   "cell_type": "code",
   "execution_count": 36,
   "id": "48e4aad9-0228-4832-9fb6-a766b43e87a1",
   "metadata": {},
   "outputs": [],
   "source": [
    "#33. Define a move method in animal class that print \"Animal moves\".override the move method in the dog class to\n",
    "#print \"dog runs\"\n",
    "\n",
    "class Animal():\n",
    "    def move(self):\n",
    "        print(\"animal moves\")\n",
    "        \n",
    "class Dog(Animal):\n",
    "    def move(self):\n",
    "        print(\"dog runs\")"
   ]
  },
  {
   "cell_type": "code",
   "execution_count": 37,
   "id": "170cc767-9327-4185-b976-95b811f94fb4",
   "metadata": {},
   "outputs": [],
   "source": [
    "dog = Dog()"
   ]
  },
  {
   "cell_type": "code",
   "execution_count": 38,
   "id": "11ec532f-9041-4414-b88c-ffbf08a4cfb2",
   "metadata": {},
   "outputs": [
    {
     "name": "stdout",
     "output_type": "stream",
     "text": [
      "dog runs\n"
     ]
    }
   ],
   "source": [
    "dog.move()"
   ]
  },
  {
   "cell_type": "code",
   "execution_count": 39,
   "id": "82432064-5a42-4543-acec-eaccc88acb76",
   "metadata": {},
   "outputs": [
    {
     "name": "stdout",
     "output_type": "stream",
     "text": [
      "Giving birth to live young\n",
      "Woof!\n"
     ]
    }
   ],
   "source": [
    "#34.create a class Mammal with a method reproduce that prints \"giving birth to live young \" .create a class DogMammal\n",
    "#inheriting from both dog and Mammal\n",
    "\n",
    "class Mammal:\n",
    "    def reproduce(self):\n",
    "        print(\"Giving birth to live young\")\n",
    "\n",
    "class Dog:\n",
    "    def bark(self):\n",
    "        print(\"Woof!\")\n",
    "\n",
    "class DogMammal(Mammal, Dog):\n",
    "    pass\n",
    "\n",
    "\n",
    "dog_mammal = DogMammal()\n",
    "dog_mammal.reproduce()  \n",
    "dog_mammal.bark()  "
   ]
  },
  {
   "cell_type": "code",
   "execution_count": 89,
   "id": "40e1a4f4-d9a0-446f-90ca-978c076d4a81",
   "metadata": {},
   "outputs": [
    {
     "name": "stdout",
     "output_type": "stream",
     "text": [
      "Bark\n"
     ]
    }
   ],
   "source": [
    "#35. create a class GermanShepherd inheriting from Dog and override and make_sound method to print \"Bark\"\n",
    "class Dog:\n",
    "    def make_sound(self):\n",
    "        print(\"Some generic dog sound\")\n",
    "\n",
    "class GermanShepherd(Dog):\n",
    "    def make_sound(self):\n",
    "        print(\"Bark\")\n",
    "        \n",
    "    \n",
    "german_shephered =GermanShepherd()\n",
    "german_shephered.make_sound()"
   ]
  },
  {
   "cell_type": "code",
   "execution_count": 88,
   "id": "78aaf500-708e-4fc8-b311-0b4b29ab661d",
   "metadata": {},
   "outputs": [],
   "source": [
    "#36 . define constructors in both the Animal and Dog classes with different initializing parameters\n",
    "\n",
    "class Animal:\n",
    "    def __init__(self,name,country):\n",
    "        self.name = name\n",
    "        self.course = course\n",
    "        \n",
    "class Dog:\n",
    "    def __init__(self,desease,price):\n",
    "        self.desease = desease\n",
    "        self.price = price"
   ]
  },
  {
   "cell_type": "code",
   "execution_count": 87,
   "id": "8023cb4a-1ba6-471a-8742-01a8cb52b17a",
   "metadata": {},
   "outputs": [
    {
     "name": "stdout",
     "output_type": "stream",
     "text": [
      "Bark\n",
      "Meow\n"
     ]
    }
   ],
   "source": [
    "#37 what is abstraction in pythn ? how it is implemented\n",
    "\n",
    "\n",
    "# abstraction means concept of hinding complex implementation\n",
    "# in abstraction we make only skeleton .we do not write the defination of functions\n",
    "# we can achieve abstraction by @abc.abstractmethod\n",
    "\n",
    "\n",
    "from abc import ABC, abstractmethod\n",
    "\n",
    "class Animal(ABC):\n",
    "    @abstractmethod\n",
    "    def sound(self):\n",
    "        pass\n",
    "\n",
    "class Dog(Animal):\n",
    "    def sound(self):\n",
    "        return \"Bark\"\n",
    "\n",
    "class Cat(Animal):\n",
    "    def sound(self):\n",
    "        return \"Meow\"\n",
    "\n",
    "# animal = Animal()  # This will raise an error\n",
    "dog = Dog()\n",
    "cat = Cat()\n",
    "\n",
    "print(dog.sound())  # Output: Bark\n",
    "print(cat.sound())  # Output: Meow\n"
   ]
  },
  {
   "cell_type": "code",
   "execution_count": 79,
   "id": "7844c7a7-5100-4f6b-8b50-ceb2616ab73f",
   "metadata": {},
   "outputs": [],
   "source": [
    "# 39 how are abstract method different from regular methods in python\n",
    "\n",
    "# Abstract Methods: Declared in an abstract class using the @abstractmethod decorator from the abc module.\n",
    "# They do not have an implementation in the base class and must be overridden in any subclass.\n",
    "\n",
    "\n",
    "# Regular Methods: Defined normally with a complete implementation in any class."
   ]
  },
  {
   "cell_type": "code",
   "execution_count": 82,
   "id": "3a104f69-d04a-444f-9134-f80236b83a67",
   "metadata": {},
   "outputs": [],
   "source": [
    "#38 . importance of abstraction in python\n",
    "\n",
    "# =>Simplification of Complex Systems\n",
    "# =>Encapsulation\n",
    "# =>Code Reusability:\n",
    "# =>Improved Maintainability\n",
    "# => Enhanced Security\n",
    "\n",
    "\n",
    "from abc import ABC, abstractmethod\n",
    "\n",
    "class Animal(ABC):\n",
    "    @abstractmethod\n",
    "    def make_sound(self):\n",
    "        pass\n",
    "\n",
    "    @abstractmethod\n",
    "    def move(self):\n",
    "        pass\n",
    "\n",
    "class Dog(Animal):\n",
    "    def make_sound(self):\n",
    "        print(\"Woof!\")\n",
    "\n",
    "    def move(self):\n",
    "        print(\"Running\")\n",
    "\n",
    "class Bird(Animal):\n",
    "    def make_sound(self):\n",
    "        print(\"Chirp!\")"
   ]
  },
  {
   "cell_type": "code",
   "execution_count": 78,
   "id": "ccaf8363-e3dc-404a-b6e0-2f6c5a78fe73",
   "metadata": {},
   "outputs": [
    {
     "name": "stdout",
     "output_type": "stream",
     "text": [
      "Car engine started\n",
      "Car engine stopped\n",
      "Motorcycle engine started\n",
      "Motorcycle engine stopped\n"
     ]
    }
   ],
   "source": [
    "#40.how can you achieve abstraction using interfaces in python\n",
    "from abc import ABC, abstractmethod\n",
    "\n",
    "# Step 1: Define an abstract base class (interface)\n",
    "class Vehicle(ABC):\n",
    "    @abstractmethod\n",
    "    def start_engine(self):\n",
    "        pass\n",
    "    \n",
    "    @abstractmethod\n",
    "    def stop_engine(self):\n",
    "        pass\n",
    "\n",
    "# Step 2: Implement the interface in concrete classes\n",
    "class Car(Vehicle):\n",
    "    def start_engine(self):\n",
    "        print(\"Car engine started\")\n",
    "        \n",
    "    def stop_engine(self):\n",
    "        print(\"Car engine stopped\")\n",
    "\n",
    "class Motorcycle(Vehicle):\n",
    "    def start_engine(self):\n",
    "        print(\"Motorcycle engine started\")\n",
    "        \n",
    "    def stop_engine(self):\n",
    "        print(\"Motorcycle engine stopped\")\n",
    "\n",
    "# Step 3: Create instances of the concrete classes and use them\n",
    "car = Car()\n",
    "car.start_engine()  # Output: Car engine started\n",
    "car.stop_engine()   # Output: Car engine stopped\n",
    "\n",
    "motorcycle = Motorcycle()\n",
    "motorcycle.start_engine()  # Output: Motorcycle engine started\n",
    "motorcycle.stop_engine()   # Output: Motorcycle engine stopped\n",
    "\n",
    "    \n",
    "    \n",
    "    "
   ]
  },
  {
   "cell_type": "code",
   "execution_count": 76,
   "id": "14f53a10-6b7a-4931-be8f-ea7222541004",
   "metadata": {},
   "outputs": [
    {
     "name": "stdout",
     "output_type": "stream",
     "text": [
      "Dog says: Woof!\n",
      "Dog moves by: Running on four legs\n",
      "Cat says: Meow!\n",
      "Cat moves by: Walking on four legs\n",
      "Bird says: Chirp!\n",
      "Bird moves by: Flying or hopping\n"
     ]
    }
   ],
   "source": [
    "#41.User\n",
    "#can you provide an example of how abstraction can be utilized to create a common intrface for a group of related\n",
    "#class in python\n",
    "\n",
    "\n",
    "from abc import ABC, abstractmethod\n",
    "\n",
    "\n",
    "class Animal(ABC):\n",
    "    @abstractmethod\n",
    "    def speak(self):\n",
    "        pass\n",
    "    \n",
    "    @abstractmethod\n",
    "    def move(self):\n",
    "        pass\n",
    "\n",
    "\n",
    "class Dog(Animal):\n",
    "    def speak(self):\n",
    "        return \"Woof!\"\n",
    "    \n",
    "    def move(self):\n",
    "        return \"Running on four legs\"\n",
    "\n",
    "class Cat(Animal):\n",
    "    def speak(self):\n",
    "        return \"Meow!\"\n",
    "    \n",
    "    def move(self):\n",
    "        return \"Walking on four legs\"\n",
    "\n",
    "class Bird(Animal):\n",
    "    def speak(self):\n",
    "        return \"Chirp!\"\n",
    "    \n",
    "    def move(self):\n",
    "        return \"Flying or hopping\"\n",
    "\n",
    "\n",
    "dog = Dog()\n",
    "print(\"Dog says:\", dog.speak())  \n",
    "print(\"Dog moves by:\", dog.move())  \n",
    "\n",
    "cat = Cat()\n",
    "print(\"Cat says:\", cat.speak())  \n",
    "print(\"Cat moves by:\", cat.move())  \n",
    "\n",
    "bird = Bird()\n",
    "print(\"Bird says:\", bird.speak())  \n",
    "print(\"Bird moves by:\", bird.move()) "
   ]
  },
  {
   "cell_type": "code",
   "execution_count": 77,
   "id": "edd27ac5-dbff-49d0-9d62-17160cf56f98",
   "metadata": {},
   "outputs": [
    {
     "name": "stdout",
     "output_type": "stream",
     "text": [
      "Cat meows\n"
     ]
    }
   ],
   "source": [
    "#42.how can be achieve polymorphism through method overloading\n",
    "\n",
    "class Animal:\n",
    "    def sound(self):\n",
    "        print(\"Animal sound\")\n",
    "class Cat(Animal):\n",
    "    def sound(self):\n",
    "        print(\"Cat meows\")\n",
    "        \n",
    "        \n",
    "cat = Cat()\n",
    "cat.sound()"
   ]
  },
  {
   "cell_type": "code",
   "execution_count": 13,
   "id": "0d536f34-d1c4-4c89-a708-f3dcdcf57374",
   "metadata": {},
   "outputs": [
    {
     "name": "stdout",
     "output_type": "stream",
     "text": [
      "The vehicle is moving\n",
      "The car is driving\n"
     ]
    }
   ],
   "source": [
    "#43.define a base class with a method and a subclass that overrides the method\n",
    "\n",
    "class Vehicle:\n",
    "    def move(self):\n",
    "        print(\"The vehicle is moving\")\n",
    "\n",
    "\n",
    "class Car(Vehicle):\n",
    "    def move(self):\n",
    "        print(\"The car is driving\")\n",
    "\n",
    "\n",
    "vehicle = Vehicle()\n",
    "car = Car()\n",
    "\n",
    "vehicle.move()  \n",
    "car.move()     \n"
   ]
  },
  {
   "cell_type": "code",
   "execution_count": 14,
   "id": "b9cf352b-be05-488c-be99-3dfd2db24184",
   "metadata": {},
   "outputs": [
    {
     "name": "stdout",
     "output_type": "stream",
     "text": [
      "method of class c\n"
     ]
    }
   ],
   "source": [
    "#44.define a class and multiple subclass with overridden methods\n",
    "class A:\n",
    "    def method(self):\n",
    "        print(\"Method of class A\")\n",
    "class B(A):\n",
    "    def method(self):\n",
    "        print(\"Method of class B\")\n",
    "class C(A):\n",
    "    def method(self):\n",
    "        print(\"method of class c\")\n",
    "class D(C, B): \n",
    "    pass\n",
    "\n",
    "d = D()\n",
    "d.method()"
   ]
  },
  {
   "cell_type": "code",
   "execution_count": 75,
   "id": "914b75fb-8a1a-41d2-9775-7981c1a5dc1a",
   "metadata": {},
   "outputs": [],
   "source": [
    "# #45.how does polymorphism improve code readability and reusability\n",
    "# Readability:\n",
    "\n",
    "# Simplifies the code by allowing the same operation to be performed on different types of objects, reducing\n",
    "# the need for type-specific code.\n",
    "# Example: A single function can handle different shapes uniformly by calling a common method like area.\n",
    "# Reusability:\n",
    "\n",
    "# Enables writing generic code that can operate on any new types implementing the common interface, avoiding\n",
    "# code duplication.\n",
    "# Example: A function designed to process Shape objects can work with any new shape classes added in the future\n",
    "# without modification."
   ]
  },
  {
   "cell_type": "code",
   "execution_count": 74,
   "id": "783723ce-6722-4635-afba-a6f44be69e54",
   "metadata": {},
   "outputs": [],
   "source": [
    "#46.Describe how python supports polymorphism with duck typing\n",
    "# How Duck Typing Works in Python:\n",
    "    \n",
    "# No Need for Explicit Interfaces:\n",
    "# Python does not require objects to inherit from a specific base class or implement a formal interface.\n",
    "# Instead, as long as the object provides the necessary methods or attributes, it can be used interchangeably\n",
    "# with other objects that do the same.\n",
    "\n",
    "# Focus on Methods and Attributes:\n",
    "# When writing functions or methods, you can focus on what the objects can do (i.e., the methods they provide) \n",
    "# rather than what they are (i.e., their class hierarchy)"
   ]
  },
  {
   "cell_type": "code",
   "execution_count": 73,
   "id": "60e37e01-fe77-4d1e-81a6-0d2c9355b449",
   "metadata": {},
   "outputs": [
    {
     "name": "stdout",
     "output_type": "stream",
     "text": [
      "I am protected\n",
      "This is a protected method\n",
      "10\n",
      "0\n"
     ]
    }
   ],
   "source": [
    "#47.how do you achieve encapsulation in python\n",
    "\n",
    "\n",
    "class MyClass:\n",
    "    def __init__(self):\n",
    "        self._protected_var = \"I am protected\"\n",
    "        self.__private_var = \"I am private\"\n",
    "\n",
    "    def _protected_method(self):\n",
    "        print(\"This is a protected method\")\n",
    "\n",
    "    def __private_method(self):\n",
    "        print(\"This is a private method\")\n",
    "\n",
    "obj = MyClass()\n",
    "print(obj._protected_var)  # Accessible but discouraged\n",
    "obj._protected_method()  # Accessible but discouraged\n",
    "\n",
    "# print(obj.__private_var)  # Raises AttributeError\n",
    "# obj.__private_method()  # Raises AttributeError\n",
    "\n",
    "\n",
    "class MyClass:\n",
    "    def __init__(self, value):\n",
    "        self.__value = value\n",
    "\n",
    "    @property\n",
    "    def value(self):\n",
    "        return self.__value\n",
    "\n",
    "    @value.setter\n",
    "    def value(self, new_value):\n",
    "        if new_value > 0:\n",
    "            self.__value = new_value\n",
    "        else:\n",
    "            raise ValueError(\"Value must be positive\")\n",
    "\n",
    "obj = MyClass(10)\n",
    "print(obj.value)  # Calls the getter\n",
    "obj.value = 20  # Calls the setter\n",
    "# obj.value = -5  # Raises ValueError\n",
    "\n",
    "\n",
    "\n",
    "class MyClass:\n",
    "    def __init__(self):\n",
    "        self.__dict__['value'] = 0\n",
    "\n",
    "    def __getattr__(self, name):\n",
    "        if name == 'value':\n",
    "            return self.__dict__['value']\n",
    "        raise AttributeError(f\"'MyClass' object has no attribute '{name}'\")\n",
    "\n",
    "    def __setattr__(self, name, value):\n",
    "        if name == 'value':\n",
    "            if value > 0:\n",
    "                self.__dict__['value'] = value\n",
    "            else:\n",
    "                raise ValueError(\"Value must be positive\")\n",
    "        else:\n",
    "            super().__setattr__(name, value)\n",
    "\n",
    "    def __delattr__(self, name):\n",
    "        if name == 'value':\n",
    "            raise AttributeError(\"Cannot delete attribute 'value'\")\n",
    "        super().__delattr__(name)\n",
    "\n",
    "obj = MyClass()\n",
    "print(obj.value)  # Accessing value\n",
    "obj.value = 10  # Setting value\n",
    "# obj.value = -5  # Raises ValueError\n",
    "# del obj.value  # Raises AttributeError\n",
    "\n"
   ]
  },
  {
   "cell_type": "code",
   "execution_count": 71,
   "id": "40afd18f-6b2a-4642-ab8c-bd8b4bb47974",
   "metadata": {},
   "outputs": [
    {
     "name": "stdout",
     "output_type": "stream",
     "text": [
      "10\n",
      "10\n",
      "10\n"
     ]
    }
   ],
   "source": [
    "#48 . can encapsulation be bypassed in python ? if so,how\n",
    "#yes ,bcz\n",
    "#1. by accessing protected member\n",
    "class MyClass:\n",
    "    def __init__(self, data):\n",
    "        self._data = data  # Protected attribute\n",
    "\n",
    "obj = MyClass(10)\n",
    "print(obj._data)  # Output: 10 (Accessing protected attribute)\n",
    "\n",
    "\n",
    "\n",
    "#By accessing private members\n",
    "class MyClass:\n",
    "    def __init__(self, data):\n",
    "        self.__data = data  # Private attribute\n",
    "\n",
    "    def get_data(self):\n",
    "        return self.__data\n",
    "\n",
    "obj = MyClass(10)\n",
    "print(obj.get_data())  # Output: 10\n",
    "\n",
    "# Bypassing encapsulation using name mangling\n",
    "print(obj._MyClass__data)  # Output: 10 (Accessing private attribute)\n"
   ]
  },
  {
   "cell_type": "code",
   "execution_count": 68,
   "id": "bb51232c-13d7-48a0-9d15-75dd19679ce6",
   "metadata": {},
   "outputs": [],
   "source": [
    "#49.implement a class BankAccount with a private balance attribute . include method to deposit,withdraw,\n",
    "#and check the balance\n",
    "class BankAccount:\n",
    "    def __init__(self,balance):\n",
    "        self.__balance = balance\n",
    "        \n",
    "        \n",
    "    def deposit (self,amount):\n",
    "        self.__balance = self.__balance + amount\n",
    "        \n",
    "    def widthrawl(self,amount):\n",
    "        if self.__balance >= amount:\n",
    "            self.__balance = self.__balance - amount\n",
    "            return True\n",
    "        return False\n",
    "    \n",
    "    def get_balance(self):\n",
    "        return self.__balance"
   ]
  },
  {
   "cell_type": "code",
   "execution_count": 65,
   "id": "cfc16adc-1155-4902-ad76-576b7d16c6ad",
   "metadata": {},
   "outputs": [
    {
     "data": {
      "text/plain": [
       "('rahul', 'rahu@')"
      ]
     },
     "execution_count": 65,
     "metadata": {},
     "output_type": "execute_result"
    }
   ],
   "source": [
    "#50.develop a class person with private attribute name and eamil.write a method to set and get the email\n",
    "\n",
    "class person:\n",
    "    def __init__(self,name,email):\n",
    "        self.__name = name\n",
    "        self.__email = email\n",
    "        \n",
    "    def set(self,name,email):\n",
    "        self.__name = name\n",
    "        self.__email = email\n",
    "    def get(self):\n",
    "        return self.__name,self.__email\n",
    "    \n",
    "per = person(\"ram\",\"ram@\")   \n",
    "per.set(\"rahul\",\"rahu@\")\n",
    "per.get()"
   ]
  },
  {
   "cell_type": "code",
   "execution_count": 64,
   "id": "81c735f3-8585-4ede-83cd-3606aff2f6bd",
   "metadata": {},
   "outputs": [],
   "source": [
    "#51.why is encapsulations consider a piller of objects\n",
    "\n",
    "#ans\n",
    "# Protect Data: It keeps an object's data (attributes) safe from unintended interference and misuse by restricting\n",
    "# direct access.\n",
    "\n",
    "\n",
    "# Control Access: It allows controlled access to the object's data through methods (functions), ensuring data \n",
    "# integrity and consistency.\n",
    "\n",
    "# Simplify Maintenance: By hiding the internal implementation details, it makes it easier to update and maintain\n",
    "# the code without affecting other parts of the program.\n",
    "\n",
    "\n",
    "# Improve Code Clarity: It provides a clear and clean interface for interacting with objects, making the code\n",
    "#easier to understand and use"
   ]
  },
  {
   "cell_type": "code",
   "execution_count": 62,
   "id": "e32f3f17-bd49-4b90-b24b-cccf52df284e",
   "metadata": {},
   "outputs": [
    {
     "name": "stdout",
     "output_type": "stream",
     "text": [
      "this is a messge before functionexecution\n",
      "hyy ,welcome to pw\n",
      "this is a messge after functionexecution\n"
     ]
    }
   ],
   "source": [
    "#52.create a decorator in python that adds functionality to a simple function by printig a message before and after \n",
    "# the function execution\n",
    "\n",
    "def deco_fun(func):\n",
    "    def inner_func():\n",
    "        print(\"this is a messge before functionexecution\")\n",
    "        func()\n",
    "        print(\"this is a messge after functionexecution\")\n",
    "    return inner_func\n",
    "\n",
    "\n",
    "@deco_fun \n",
    "def greet():\n",
    "    print(\"hyy ,welcome to pw\")\n",
    "    \n",
    "greet()    \n"
   ]
  },
  {
   "cell_type": "code",
   "execution_count": 61,
   "id": "e303f37b-a9a7-4d1d-8adb-ed6cd89b1378",
   "metadata": {},
   "outputs": [
    {
     "name": "stdout",
     "output_type": "stream",
     "text": [
      "Function 'greet' says: Hello, world!\n",
      "Greeting function executed.\n",
      "Function 'process_data' says: Processing data.\n",
      "Data processed: Sample data\n"
     ]
    }
   ],
   "source": [
    "#53.modify the decorator to accept arguments and print the function name along with the message\n",
    "\n",
    "def custom_message_decorator(message):\n",
    "    def decorator(func):\n",
    "        def wrapper(*args, **kwargs):\n",
    "            print(f\"Function '{func.__name__}' says: {message}\")\n",
    "            return func(*args, **kwargs)\n",
    "        return wrapper\n",
    "    return decorator\n",
    "\n",
    "\n",
    "@custom_message_decorator(\"Hello, world!\")\n",
    "def greet():\n",
    "    print(\"Greeting function executed.\")\n",
    "\n",
    "@custom_message_decorator(\"Processing data.\")\n",
    "def process_data(data):\n",
    "    print(f\"Data processed: {data}\")\n",
    "\n",
    "\n",
    "greet()\n",
    "process_data(\"Sample data\")"
   ]
  },
  {
   "cell_type": "code",
   "execution_count": 60,
   "id": "406f269c-ae9b-4ab8-9968-ce7373348dba",
   "metadata": {},
   "outputs": [
    {
     "name": "stdout",
     "output_type": "stream",
     "text": [
      "Decorator One: Before calling the function\n",
      "Decorator Two: Before calling the function\n",
      "Hello, world!\n",
      "Decorator Two: After calling the function\n",
      "Decorator One: After calling the function\n"
     ]
    }
   ],
   "source": [
    "#54.create two decorator and apply them to a single functions .ensure that they execute in the order they are applied\n",
    "def decorator_one(func):\n",
    "    def wrapper(*args, **kwargs):\n",
    "        print(\"Decorator One: Before calling the function\")\n",
    "        result = func(*args, **kwargs)\n",
    "        print(\"Decorator One: After calling the function\")\n",
    "        return result\n",
    "    return wrapper\n",
    "\n",
    "def decorator_two(func):\n",
    "    def wrapper(*args, **kwargs):\n",
    "        print(\"Decorator Two: Before calling the function\")\n",
    "        result = func(*args, **kwargs)\n",
    "        print(\"Decorator Two: After calling the function\")\n",
    "        return result\n",
    "    return wrapper\n",
    "\n",
    "\n",
    "@decorator_one\n",
    "@decorator_two\n",
    "def say_hello():\n",
    "    print(\"Hello, world!\")\n",
    "\n",
    "\n",
    "say_hello()"
   ]
  },
  {
   "cell_type": "code",
   "execution_count": 16,
   "id": "f67d7f0d-0a2c-4ec6-840c-34e0d94a341b",
   "metadata": {},
   "outputs": [
    {
     "name": "stdout",
     "output_type": "stream",
     "text": [
      "Decorator One: Before calling the function\n",
      "Decorator Two: Before calling the function\n",
      "Hello, world!\n",
      "Decorator Two: After calling the function\n",
      "Decorator One: After calling the function\n"
     ]
    }
   ],
   "source": [
    "#55.modify the decorator to accept and pass function arguments to the wrapped functon\n",
    "def decorator_one(func):\n",
    "    def wrapper(name):\n",
    "        print(\"Decorator One: Before calling the function\")\n",
    "        result = func(name)\n",
    "        print(\"Decorator One: After calling the function\")\n",
    "        return result\n",
    "    return wrapper\n",
    "\n",
    "def decorator_two(func):\n",
    "    def wrapper(name):\n",
    "        print(\"Decorator Two: Before calling the function\")\n",
    "        result = func(name)\n",
    "        print(\"Decorator Two: After calling the function\")\n",
    "        return result\n",
    "    return wrapper\n",
    "\n",
    "@decorator_one\n",
    "@decorator_two\n",
    "def say_hello(name):\n",
    "    print(f\"Hello, {name}!\")\n",
    "\n",
    "\n",
    "say_hello(\"world\")"
   ]
  },
  {
   "cell_type": "code",
   "execution_count": 17,
   "id": "46f2c64a-a95e-475e-b05a-5c7524f955c3",
   "metadata": {},
   "outputs": [
    {
     "name": "stdout",
     "output_type": "stream",
     "text": [
      "The sum is: 8\n"
     ]
    }
   ],
   "source": [
    "#57.create a python class calculator with a static method 'add' that takes in two numbers and return their sum.\n",
    "\n",
    "class Calculator:\n",
    "    @staticmethod\n",
    "    def add(a, b):\n",
    "        return a + b\n",
    "\n",
    "\n",
    "result = Calculator.add(5, 3)\n",
    "print(f\"The sum is: {result}\")  # Output: The sum is: 8"
   ]
  },
  {
   "cell_type": "code",
   "execution_count": 18,
   "id": "6bfc0c8a-e199-4305-9857-59cc070ae307",
   "metadata": {},
   "outputs": [
    {
     "name": "stdout",
     "output_type": "stream",
     "text": [
      "Total employees created: 3\n"
     ]
    }
   ],
   "source": [
    "#58.create a python class employee with a class method 'get_employee_count' that return the total employee created\n",
    "class Employee:\n",
    "  \n",
    "    employee_count = 0\n",
    "\n",
    "    def __init__(self, name):\n",
    "        self.name = name\n",
    "        Employee.employee_count += 1\n",
    "\n",
    "    @classmethod\n",
    "    def get_employee_count(cls):\n",
    "        return cls.employee_count\n",
    "\n",
    "\n",
    "emp1 = Employee(\"Alice\")\n",
    "emp2 = Employee(\"Bob\")\n",
    "emp3 = Employee(\"Charlie\")\n",
    "\n",
    "print(f\"Total employees created: {Employee.get_employee_count()}\")"
   ]
  },
  {
   "cell_type": "code",
   "execution_count": 19,
   "id": "093bae74-7d86-4211-bcab-e096b6668a86",
   "metadata": {},
   "outputs": [
    {
     "name": "stdout",
     "output_type": "stream",
     "text": [
      "Reversed string: olleh\n"
     ]
    }
   ],
   "source": [
    "#59.create a python class 'StringFormatter' with a static method 'reverse_string'that takes a srting as input and\n",
    "#return its revrse\n",
    "class StringFormatter:\n",
    "    @staticmethod\n",
    "    def reverse_string(s):\n",
    "        return s[::-1]\n",
    "\n",
    "\n",
    "reversed_string = StringFormatter.reverse_string(\"hello\")\n",
    "print(f\"Reversed string: {reversed_string}\") \n"
   ]
  },
  {
   "cell_type": "code",
   "execution_count": 20,
   "id": "d5e1b3c6-5e4e-4de3-bdaa-6edef4d92304",
   "metadata": {},
   "outputs": [
    {
     "name": "stdout",
     "output_type": "stream",
     "text": [
      "25 degrees Celsius is equal to 77.0 degrees Fahrenheit.\n"
     ]
    }
   ],
   "source": [
    "#61.create a python class 'TemperatorConverter' with a static method 'celcius_to_farehnite'that converts Celcius\n",
    "# to farehnite\n",
    "\n",
    "class TemperatureConverter:\n",
    "    @staticmethod\n",
    "    def celsius_to_fahrenheit(celsius):\n",
    "        return (celsius * 9/5) + 32\n",
    "\n",
    "\n",
    "fahrenheit = TemperatureConverter.celsius_to_fahrenheit(25)\n",
    "print(f\"25 degrees Celsius is equal to {fahrenheit} degrees Fahrenheit.\")"
   ]
  },
  {
   "cell_type": "code",
   "execution_count": 21,
   "id": "273388e9-129e-4715-b93c-b7e8966a4f13",
   "metadata": {},
   "outputs": [
    {
     "name": "stdout",
     "output_type": "stream",
     "text": [
      "The area of a circle with radius 5 is: 78.53981633974483\n"
     ]
    }
   ],
   "source": [
    "#60Create a python class 'circle' with a class method 'calculate_area' that calculate area of circle given \n",
    "#its radius\n",
    "import math\n",
    "\n",
    "class Circle:\n",
    "    @classmethod\n",
    "    def calculate_area(cls, radius):\n",
    "        return math.pi * (radius ** 2)\n",
    "\n",
    "\n",
    "radius = 5\n",
    "area = Circle.calculate_area(radius)\n",
    "print(f\"The area of a circle with radius {radius} is: {area}\")  "
   ]
  },
  {
   "cell_type": "code",
   "execution_count": 52,
   "id": "35dc5837-8d45-43ad-b2e6-2c4587ed4042",
   "metadata": {},
   "outputs": [
    {
     "name": "stdout",
     "output_type": "stream",
     "text": [
      "Person(name='Alice', age=30)\n",
      "Person(name='Alice', age=30)\n"
     ]
    }
   ],
   "source": [
    "#62.what is the purpose of the __str__() method in python classes? provide an example\n",
    "\n",
    "# The __str__() method in Python classes is used to define a string representation of an object. It provides a way\n",
    "# to control how an object is converted to a string when the str() function or print() function is called on the\n",
    "# object. This method is often used to provide a human-readable description of the object's state or attributes\n",
    "\n",
    "\n",
    "class Person:\n",
    "    def __init__(self, name, age):\n",
    "        self.name = name\n",
    "        self.age = age\n",
    "\n",
    "    def __str__(self):\n",
    "        return f\"Person(name='{self.name}', age={self.age})\"\n",
    "\n",
    "# Create a Person object\n",
    "person = Person(\"Alice\", 30)\n",
    "\n",
    "# Print the object using str() function\n",
    "print(str(person))  # Output: Person(name='Alice', age=30)\n",
    "\n",
    "# Print the object using print() function\n",
    "print(person)  # Output: Person(name='Alice', age=30)"
   ]
  },
  {
   "cell_type": "code",
   "execution_count": null,
   "id": "f0c2b9db-67a0-4d50-accc-b90f4e4c142f",
   "metadata": {},
   "outputs": [],
   "source": [
    "#63.how does the __len__() method works in python?give an exmple\n",
    "\n",
    "#__len__() rturn the length of objects\n",
    "class CustomList:\n",
    "    def __init__(self, items):\n",
    "        self.items = items\n",
    "\n",
    "    def __len__(self):\n",
    "        return len(self.items)\n",
    "\n",
    "# Create a CustomList object\n",
    "custom_list = CustomList([1, 2, 3, 4, 5])\n",
    "\n",
    "\n",
    "length = len(custom_list)\n",
    "print(f\"The length of the custom list is: {length}\")  "
   ]
  },
  {
   "cell_type": "code",
   "execution_count": 53,
   "id": "576de9df-f022-441b-8186-35a6d725de07",
   "metadata": {},
   "outputs": [
    {
     "name": "stdout",
     "output_type": "stream",
     "text": [
      "The result of addition is: Point(x=4, y=6)\n"
     ]
    }
   ],
   "source": [
    "#64.how does the __add__() method works in python?gie an exmple\n",
    "\n",
    "#__add__() works as a '+' additional operator\n",
    "\n",
    "class Point:\n",
    "    def __init__(self, x, y):\n",
    "        self.x = x\n",
    "        self.y = y\n",
    "\n",
    "    def __add__(self, other):\n",
    "        if isinstance(other, Point):\n",
    "            return Point(self.x + other.x, self.y + other.y)\n",
    "        else:\n",
    "            raise TypeError(\"Unsupported operand type(s) for +: 'Point' and '{}'\".format(type(other).__name__))\n",
    "\n",
    "    def __str__(self):\n",
    "        return f\"Point(x={self.x}, y={self.y})\"\n",
    "\n",
    "point1 = Point(1, 2)\n",
    "point2 = Point(3, 4)\n",
    "\n",
    "result = point1 + point2\n",
    "print(f\"The result of addition is: {result}\") "
   ]
  },
  {
   "cell_type": "code",
   "execution_count": 54,
   "id": "299ea685-78a9-4e51-95b8-f8acfce07576",
   "metadata": {},
   "outputs": [
    {
     "name": "stdout",
     "output_type": "stream",
     "text": [
      "1\n",
      "3\n",
      "5\n"
     ]
    }
   ],
   "source": [
    "#65..how does the __getitem__() method works in python?gie an exmple\n",
    "\n",
    "\n",
    "\n",
    "#In Python, the __getitem__() method is a special method that allows objects to support the indexing operation\n",
    "#(using square brackets []). \n",
    "\n",
    "\n",
    "class MyList:\n",
    "    def __init__(self, data):\n",
    "        self.data = data\n",
    "\n",
    "    def __getitem__(self, index):\n",
    "        return self.data[index]\n",
    "\n",
    "\n",
    "my_list = MyList([1, 2, 3, 4, 5])\n",
    "\n",
    "\n",
    "print(my_list[0])  \n",
    "print(my_list[2]) \n",
    "print(my_list[-1]) "
   ]
  },
  {
   "cell_type": "code",
   "execution_count": 55,
   "id": "c674a6fe-356d-4d84-8911-e055fd711da7",
   "metadata": {},
   "outputs": [
    {
     "name": "stdout",
     "output_type": "stream",
     "text": [
      "1 2 3 4 "
     ]
    }
   ],
   "source": [
    "#66.explain the usage of __iter__() and __next__() methods in python. provide xample using iterator?\n",
    "\n",
    "\n",
    "# n Python, the __iter__() and __next__() methods are used to create iterators, which are objects that enable\n",
    "# iteration over a sequence of elements. Iterators allow you to iterate through the elements of a collection\n",
    "# (such as a list or a custom object) one by one, providing a more memory-efficient and flexible way to process \n",
    "\n",
    "class MyRange:\n",
    "    def __init__(self, start, end):\n",
    "        self.start = start\n",
    "        self.end = end\n",
    "        self.current = start\n",
    "\n",
    "    def __iter__(self):\n",
    "        return self\n",
    "\n",
    "    def __next__(self):\n",
    "        if self.current < self.end:\n",
    "            result = self.current\n",
    "            self.current += 1\n",
    "            return result\n",
    "        else:\n",
    "            raise StopIteration\n",
    "\n",
    "# Create an iterator object\n",
    "my_range = MyRange(1, 5)\n",
    "\n",
    "# Iterate over the elements using a for loop\n",
    "for num in my_range:\n",
    "    print(num, end=' ')  # Output: 1 2 3 4"
   ]
  },
  {
   "cell_type": "code",
   "execution_count": 56,
   "id": "dd4be1fc-fc49-4d16-8f3f-e4031f15c180",
   "metadata": {},
   "outputs": [
    {
     "name": "stdout",
     "output_type": "stream",
     "text": [
      "5\n"
     ]
    }
   ],
   "source": [
    "#67.Userwhat is the purpose of getter method in python provide an example demonstrating the use of a getter\n",
    "#method using proerty decorators\n",
    "\n",
    "\n",
    "# User\n",
    "# what is the purpose of getter method in python provide an example demonstrating the use of a getter method \n",
    "# using proerty decorators\n",
    "\n",
    "\n",
    "class Circle:\n",
    "    def __init__(self, radius):\n",
    "        self._radius = radius  # Private attribute\n",
    "\n",
    "    @property\n",
    "    def radius(self):\n",
    "        return self._radius\n",
    "\n",
    "# Create a Circle object\n",
    "circle = Circle(5)\n",
    "\n",
    "# Access the radius attribute using the getter method\n",
    "print(circle.radius)  # Output: 5"
   ]
  },
  {
   "cell_type": "code",
   "execution_count": 57,
   "id": "b03dcc1e-5397-4261-a09f-71829d731d15",
   "metadata": {},
   "outputs": [
    {
     "name": "stdout",
     "output_type": "stream",
     "text": [
      "5\n",
      "7\n",
      "Radius must be positive\n"
     ]
    }
   ],
   "source": [
    "#68.explain the role of setter method in python . Demonstarte how to use a setter method to modify a class attribute\n",
    "#using property decorator\n",
    "\n",
    "class Circle:\n",
    "    def __init__(self, radius):\n",
    "        self._radius = radius  # Private attribute\n",
    "\n",
    "    @property\n",
    "    def radius(self):\n",
    "        return self._radius\n",
    "\n",
    "    @radius.setter\n",
    "    def radius(self, value):\n",
    "        if value <= 0:\n",
    "            raise ValueError(\"Radius must be positive\")\n",
    "        self._radius = value\n",
    "\n",
    "\n",
    "circle = Circle(5)\n",
    "\n",
    "\n",
    "print(circle.radius)  \n",
    "\n",
    "circle.radius = 7\n",
    "print(circle.radius) \n",
    "\n",
    "\n",
    "try:\n",
    "    circle.radius = -3 \n",
    "except ValueError as e:\n",
    "    print(e)  \n",
    " "
   ]
  },
  {
   "cell_type": "code",
   "execution_count": 58,
   "id": "2c6302fa-1edf-4483-97ce-db5b17ebc526",
   "metadata": {},
   "outputs": [
    {
     "name": "stdout",
     "output_type": "stream",
     "text": [
      "5\n"
     ]
    }
   ],
   "source": [
    "#69.what is the purpose of @property decorator in python? provide an exmple illustrating its usage.\n",
    "\n",
    "\n",
    "# Python, the @property decorator is used to define special methods known as getter, setter, and deleter\n",
    "# methods for class attributes. It allows you to customize attribute access, enabling controlled retrieval,\n",
    "# modification, and deletion of attribute values.\n",
    "\n",
    "\n",
    "class Circle:\n",
    "    def __init__(self, radius):\n",
    "        self._radius = radius  \n",
    "\n",
    "    @property\n",
    "    def radius(self):\n",
    "        return self._radius\n",
    "\n",
    "\n",
    "circle = Circle(5)\n",
    "print(circle.radius) "
   ]
  },
  {
   "cell_type": "code",
   "execution_count": 59,
   "id": "cb5b556c-4d65-42b7-a751-1f58bd6d8cc5",
   "metadata": {},
   "outputs": [
    {
     "name": "stdout",
     "output_type": "stream",
     "text": [
      "5\n",
      "5\n",
      "Radius must be positive\n"
     ]
    }
   ],
   "source": [
    "#70.explain the use of @deter decorator in python property decorator.provide an example.\n",
    "\n",
    "\n",
    "# In Python, the @property decorator is used to define getter, setter, and deleter methods for class attributes.\n",
    "# The @property decorator converts a method into a read-only property, making it accessible like an attribute rather\n",
    "# than a method call.\n",
    "\n",
    "\n",
    "\n",
    "\n",
    "class Circle:\n",
    "    def __init__(self, radius):\n",
    "        self._radius = radius  #\n",
    "\n",
    "    @property\n",
    "    def radius(self):\n",
    "        return self._radius\n",
    "\n",
    "    @radius.setter\n",
    "    def radius(self, value):\n",
    "        if value <= 0:\n",
    "            raise ValueError(\"Radius must be positive\")\n",
    "\n",
    "circle = Circle(5)\n",
    "\n",
    "\n",
    "print(circle.radius)  \n",
    "circle.radius = 7\n",
    "print(circle.radius)  \n",
    "\n",
    "\n",
    "try:\n",
    "    circle.radius = -3 \n",
    "except ValueError as e:\n",
    "    print(e)  "
   ]
  },
  {
   "cell_type": "code",
   "execution_count": null,
   "id": "277dd9ca-10d8-4b55-a193-53612175ac44",
   "metadata": {},
   "outputs": [],
   "source": []
  },
  {
   "cell_type": "code",
   "execution_count": null,
   "id": "d02ad40e-3b9e-449b-94ee-7ec9dbd881da",
   "metadata": {},
   "outputs": [],
   "source": []
  },
  {
   "cell_type": "code",
   "execution_count": null,
   "id": "47f63ee2-c0c9-4c1f-9432-67fc386d8851",
   "metadata": {},
   "outputs": [],
   "source": []
  },
  {
   "cell_type": "code",
   "execution_count": null,
   "id": "63d8ad69-2e8c-4f35-ac15-a0b2c654569c",
   "metadata": {},
   "outputs": [],
   "source": []
  },
  {
   "cell_type": "code",
   "execution_count": null,
   "id": "1cf210ff-2e70-4709-9748-02d8e127c8a9",
   "metadata": {},
   "outputs": [],
   "source": []
  },
  {
   "cell_type": "code",
   "execution_count": null,
   "id": "cb6fbf33-c485-47b9-bf7d-4482f8e0c24e",
   "metadata": {},
   "outputs": [],
   "source": []
  },
  {
   "cell_type": "code",
   "execution_count": null,
   "id": "efd139ea-0bd5-4528-8c7a-be14eb9668b6",
   "metadata": {},
   "outputs": [],
   "source": []
  },
  {
   "cell_type": "code",
   "execution_count": null,
   "id": "8fb95648-4c7c-4cd7-9da0-eee8563f53a8",
   "metadata": {},
   "outputs": [],
   "source": []
  },
  {
   "cell_type": "code",
   "execution_count": null,
   "id": "5e0191eb-2b5a-4a3c-9722-b29a397e9cd9",
   "metadata": {},
   "outputs": [],
   "source": []
  },
  {
   "cell_type": "code",
   "execution_count": null,
   "id": "fb099167-e7a3-47a6-bc6f-d67354c8a391",
   "metadata": {},
   "outputs": [],
   "source": []
  },
  {
   "cell_type": "code",
   "execution_count": null,
   "id": "dfd4378b-4c6f-44f7-b629-24c51a3ac930",
   "metadata": {},
   "outputs": [],
   "source": []
  },
  {
   "cell_type": "code",
   "execution_count": null,
   "id": "999576be-3fe1-4908-b063-6b8a2da337ba",
   "metadata": {},
   "outputs": [],
   "source": []
  },
  {
   "cell_type": "code",
   "execution_count": null,
   "id": "3b14a917-c04c-4376-bbfd-b1341397c9de",
   "metadata": {},
   "outputs": [],
   "source": []
  },
  {
   "cell_type": "code",
   "execution_count": null,
   "id": "b30e3ccf-56b9-4cb2-8209-be6b80161761",
   "metadata": {},
   "outputs": [],
   "source": []
  },
  {
   "cell_type": "code",
   "execution_count": null,
   "id": "42c64063-db3e-42fe-bc09-28578a199802",
   "metadata": {},
   "outputs": [],
   "source": []
  },
  {
   "cell_type": "code",
   "execution_count": null,
   "id": "c900c0bc-2ea1-4e01-b08c-d20227ad6606",
   "metadata": {},
   "outputs": [],
   "source": []
  },
  {
   "cell_type": "code",
   "execution_count": null,
   "id": "41de1531-720a-44b2-8fa4-a1c28252f157",
   "metadata": {},
   "outputs": [],
   "source": []
  },
  {
   "cell_type": "code",
   "execution_count": null,
   "id": "d38441f0-0113-4aef-a572-829680c2e291",
   "metadata": {},
   "outputs": [],
   "source": []
  },
  {
   "cell_type": "code",
   "execution_count": null,
   "id": "417fd3d9-6cf1-44fc-a9ab-e2b9e197512e",
   "metadata": {},
   "outputs": [],
   "source": []
  },
  {
   "cell_type": "code",
   "execution_count": null,
   "id": "c77f8a9e-88d6-4e9e-affa-5b2fd2a55305",
   "metadata": {},
   "outputs": [],
   "source": []
  },
  {
   "cell_type": "code",
   "execution_count": null,
   "id": "c3a5179a-e08a-4c83-b8de-3fdc7e16f70b",
   "metadata": {},
   "outputs": [],
   "source": []
  },
  {
   "cell_type": "code",
   "execution_count": null,
   "id": "82a1eb69-ca8b-49cc-924e-e46bc35db8da",
   "metadata": {},
   "outputs": [],
   "source": []
  },
  {
   "cell_type": "code",
   "execution_count": null,
   "id": "85bbda6a-0a0a-4708-8c52-19699f155b56",
   "metadata": {},
   "outputs": [],
   "source": []
  },
  {
   "cell_type": "code",
   "execution_count": null,
   "id": "f98c5344-fa70-47c5-ad68-12ee21b90068",
   "metadata": {},
   "outputs": [],
   "source": []
  },
  {
   "cell_type": "code",
   "execution_count": null,
   "id": "1826e02f-6472-4e1e-ae1d-0208ae35818a",
   "metadata": {},
   "outputs": [],
   "source": []
  },
  {
   "cell_type": "code",
   "execution_count": null,
   "id": "564a8b39-a530-4a36-96a5-a0a51313f6e7",
   "metadata": {},
   "outputs": [],
   "source": []
  },
  {
   "cell_type": "code",
   "execution_count": null,
   "id": "2c7fe0d4-709a-4f04-98e8-18c620069195",
   "metadata": {},
   "outputs": [],
   "source": []
  },
  {
   "cell_type": "code",
   "execution_count": null,
   "id": "67a7a594-64b0-4788-8dc7-17183e6aade0",
   "metadata": {},
   "outputs": [],
   "source": []
  },
  {
   "cell_type": "code",
   "execution_count": null,
   "id": "c8168d47-30c8-45bb-ac2f-1bfebaeda794",
   "metadata": {},
   "outputs": [],
   "source": []
  },
  {
   "cell_type": "code",
   "execution_count": null,
   "id": "7c1f37db-9c22-48b3-b727-6fc951c01b0b",
   "metadata": {},
   "outputs": [],
   "source": []
  },
  {
   "cell_type": "code",
   "execution_count": null,
   "id": "c16a9ba1-6740-4937-810c-80092129e9a7",
   "metadata": {},
   "outputs": [],
   "source": []
  },
  {
   "cell_type": "code",
   "execution_count": null,
   "id": "d40bb0d0-5345-44e1-8fc9-642a60c1a84d",
   "metadata": {},
   "outputs": [],
   "source": []
  },
  {
   "cell_type": "code",
   "execution_count": null,
   "id": "482e0c39-0817-4e76-b990-8b68e6ef05b8",
   "metadata": {},
   "outputs": [],
   "source": []
  },
  {
   "cell_type": "code",
   "execution_count": null,
   "id": "4dd60a5f-6bf7-4ddb-b8eb-2f71c80ac884",
   "metadata": {},
   "outputs": [],
   "source": []
  },
  {
   "cell_type": "code",
   "execution_count": null,
   "id": "52d1ed41-a9ad-454b-9120-3a095c5cf567",
   "metadata": {},
   "outputs": [],
   "source": []
  },
  {
   "cell_type": "code",
   "execution_count": null,
   "id": "78075bd2-a890-4adc-87f2-4d0026dab937",
   "metadata": {},
   "outputs": [],
   "source": []
  },
  {
   "cell_type": "code",
   "execution_count": null,
   "id": "236be7e6-e427-46cf-8855-c588ee703e02",
   "metadata": {},
   "outputs": [],
   "source": []
  },
  {
   "cell_type": "code",
   "execution_count": null,
   "id": "b71f886e-e397-48cf-83f9-69c8da50651b",
   "metadata": {},
   "outputs": [],
   "source": []
  },
  {
   "cell_type": "code",
   "execution_count": null,
   "id": "7eeca10f-a7c5-4b31-8024-c0c4bc615d72",
   "metadata": {},
   "outputs": [],
   "source": []
  },
  {
   "cell_type": "code",
   "execution_count": null,
   "id": "d0de110d-49d7-4830-a48a-fddbe4edca80",
   "metadata": {},
   "outputs": [],
   "source": []
  },
  {
   "cell_type": "code",
   "execution_count": null,
   "id": "7f12de7f-5db4-4fd8-b556-99a67b33edeb",
   "metadata": {},
   "outputs": [],
   "source": []
  },
  {
   "cell_type": "code",
   "execution_count": null,
   "id": "e28eba5b-58d5-418b-a290-cb9edc5e89d3",
   "metadata": {},
   "outputs": [],
   "source": []
  },
  {
   "cell_type": "code",
   "execution_count": null,
   "id": "9b4e0943-17d0-4aeb-bcf3-4918d63bf63d",
   "metadata": {},
   "outputs": [],
   "source": []
  },
  {
   "cell_type": "code",
   "execution_count": null,
   "id": "b4c40cef-0a6d-496b-8606-d6c3559d5eb0",
   "metadata": {},
   "outputs": [],
   "source": []
  },
  {
   "cell_type": "code",
   "execution_count": null,
   "id": "dbc5dfe3-7557-4ff6-998b-4555e0e8e73c",
   "metadata": {},
   "outputs": [],
   "source": []
  },
  {
   "cell_type": "code",
   "execution_count": null,
   "id": "fb9f2716-5936-4292-83ff-a8826d2a2169",
   "metadata": {},
   "outputs": [],
   "source": []
  },
  {
   "cell_type": "code",
   "execution_count": null,
   "id": "3ae210e0-b4a2-4eea-98b7-b9647485908d",
   "metadata": {},
   "outputs": [],
   "source": []
  },
  {
   "cell_type": "code",
   "execution_count": null,
   "id": "aa894594-f009-42de-8ae5-75f9f28e7e6e",
   "metadata": {},
   "outputs": [],
   "source": []
  },
  {
   "cell_type": "code",
   "execution_count": null,
   "id": "760e93bc-7e3c-4162-95d4-6ee453fcda59",
   "metadata": {},
   "outputs": [],
   "source": []
  }
 ],
 "metadata": {
  "kernelspec": {
   "display_name": "Python 3 (ipykernel)",
   "language": "python",
   "name": "python3"
  },
  "language_info": {
   "codemirror_mode": {
    "name": "ipython",
    "version": 3
   },
   "file_extension": ".py",
   "mimetype": "text/x-python",
   "name": "python",
   "nbconvert_exporter": "python",
   "pygments_lexer": "ipython3",
   "version": "3.10.8"
  }
 },
 "nbformat": 4,
 "nbformat_minor": 5
}
